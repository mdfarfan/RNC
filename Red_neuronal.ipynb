{
  "nbformat": 4,
  "nbformat_minor": 0,
  "metadata": {
    "accelerator": "GPU",
    "colab": {
      "name": "Red neuronal.ipynb",
      "provenance": [],
      "collapsed_sections": [],
      "include_colab_link": true
    },
    "kernelspec": {
      "display_name": "Python 3",
      "name": "python3"
    }
  },
  "cells": [
    {
      "cell_type": "markdown",
      "metadata": {
        "id": "view-in-github",
        "colab_type": "text"
      },
      "source": [
        "<a href=\"https://colab.research.google.com/github/mdfarfan/RNC/blob/main/Red_neuronal.ipynb\" target=\"_parent\"><img src=\"https://colab.research.google.com/assets/colab-badge.svg\" alt=\"Open In Colab\"/></a>"
      ]
    },
    {
      "cell_type": "code",
      "metadata": {
        "colab": {
          "base_uri": "https://localhost:8080/"
        },
        "id": "rpVgSST_Y455",
        "outputId": "f087c6f2-a516-4887-e0f3-800cae5fd9b2"
      },
      "source": [
        "pip install --upgrade keras"
      ],
      "execution_count": 22,
      "outputs": [
        {
          "output_type": "stream",
          "text": [
            "Requirement already up-to-date: keras in /usr/local/lib/python3.7/dist-packages (2.4.3)\n",
            "Requirement already satisfied, skipping upgrade: numpy>=1.9.1 in /usr/local/lib/python3.7/dist-packages (from keras) (1.19.5)\n",
            "Requirement already satisfied, skipping upgrade: h5py in /usr/local/lib/python3.7/dist-packages (from keras) (2.10.0)\n",
            "Requirement already satisfied, skipping upgrade: pyyaml in /usr/local/lib/python3.7/dist-packages (from keras) (3.13)\n",
            "Requirement already satisfied, skipping upgrade: scipy>=0.14 in /usr/local/lib/python3.7/dist-packages (from keras) (1.4.1)\n",
            "Requirement already satisfied, skipping upgrade: six in /usr/local/lib/python3.7/dist-packages (from h5py->keras) (1.15.0)\n"
          ],
          "name": "stdout"
        }
      ]
    },
    {
      "cell_type": "markdown",
      "metadata": {
        "id": "dsvzwGy-bWrT"
      },
      "source": [
        "# Clonamos el repositorio para obtener el dataset"
      ]
    },
    {
      "cell_type": "code",
      "metadata": {
        "colab": {
          "base_uri": "https://localhost:8080/"
        },
        "id": "DWYwSH-3Z97s",
        "outputId": "141d88e3-84df-4af2-d415-17bbc7010d7a"
      },
      "source": [
        "!git clone https://github.com/joanby/deeplearning-az.git"
      ],
      "execution_count": 37,
      "outputs": [
        {
          "output_type": "stream",
          "text": [
            "Cloning into 'deeplearning-az'...\n",
            "remote: Enumerating objects: 10196, done.\u001b[K\n",
            "remote: Counting objects: 100% (100/100), done.\u001b[K\n",
            "remote: Compressing objects: 100% (70/70), done.\u001b[K\n",
            "remote: Total 10196 (delta 50), reused 67 (delta 30), pack-reused 10096\u001b[K\n",
            "Receiving objects: 100% (10196/10196), 281.16 MiB | 40.03 MiB/s, done.\n",
            "Resolving deltas: 100% (75/75), done.\n",
            "Checking out files: 100% (10119/10119), done.\n"
          ],
          "name": "stdout"
        }
      ]
    },
    {
      "cell_type": "markdown",
      "metadata": {
        "id": "kj7yYesKbctW"
      },
      "source": [
        "# Parte 1 - Construir el modelo de CNN\n",
        "\n",
        "# Importar las librerías y paquetes"
      ]
    },
    {
      "cell_type": "code",
      "metadata": {
        "id": "YBacLjT1Y81H"
      },
      "source": [
        "# import the necessary packages\n",
        "import numpy as np\n",
        "import logging, os\n",
        "from keras.preprocessing import image\n",
        "from keras.models import Sequential\n",
        "from keras.layers import Conv2D\n",
        "from keras.layers import MaxPooling2D\n",
        "from keras.layers import Flatten\n",
        "from keras.layers import Dense\n",
        "from keras.layers import Dropout\n",
        "import matplotlib.pyplot as plt\n",
        "from keras.models import Model\n",
        "from keras.models import load_model\n",
        "import os\n",
        "import tensorflow as tf\n",
        "from tensorflow import keras"
      ],
      "execution_count": 38,
      "outputs": []
    },
    {
      "cell_type": "markdown",
      "metadata": {
        "id": "AtczsRskbj2F"
      },
      "source": [
        "#RED 1\n",
        "Inicializar la CNN"
      ]
    },
    {
      "cell_type": "code",
      "metadata": {
        "id": "rQL9sTJ9Y_Vc"
      },
      "source": [
        "classifier = Sequential()"
      ],
      "execution_count": 39,
      "outputs": []
    },
    {
      "cell_type": "markdown",
      "metadata": {
        "id": "tUbAgrrqbpsY"
      },
      "source": [
        "# Paso 1 - Convolución y Maxpooling"
      ]
    },
    {
      "cell_type": "code",
      "metadata": {
        "id": "2kYdJsjsZCR8"
      },
      "source": [
        "#Capa 1\n",
        "classifier.add(Conv2D(filters = 64,kernel_size = (3, 3),input_shape = (128,128, 3), activation = \"relu\"))\n",
        "classifier.add(MaxPooling2D(pool_size = (2,2)))\n",
        "#Capa 2\n",
        "classifier.add(Conv2D(filters = 64,kernel_size = (3, 3), activation = \"relu\"))\n",
        "classifier.add(MaxPooling2D(pool_size = (2,2)))"
      ],
      "execution_count": 40,
      "outputs": []
    },
    {
      "cell_type": "markdown",
      "metadata": {
        "id": "gfacNAkPb_T-"
      },
      "source": [
        "# Paso 3 - Flattening"
      ]
    },
    {
      "cell_type": "code",
      "metadata": {
        "id": "JWl9_DHxZJZD"
      },
      "source": [
        "classifier.add(Flatten())"
      ],
      "execution_count": 41,
      "outputs": []
    },
    {
      "cell_type": "markdown",
      "metadata": {
        "id": "Ksz0Q4WGcB77"
      },
      "source": [
        "# Paso 4 - Full Connection"
      ]
    },
    {
      "cell_type": "code",
      "metadata": {
        "id": "KQnTQSjyZKXs"
      },
      "source": [
        "#Capa 1\n",
        "classifier.add(Dense(units = 256, activation = \"relu\"))\n",
        "classifier.add(Dropout(0.5))\n",
        "\n",
        "#Capa 2\n",
        "classifier.add(Dense(units = 256, activation = \"relu\"))\n",
        "classifier.add(Dropout(0.5))\n",
        "\n",
        "#Salida\n",
        "classifier.add(Dense(units = 1, activation = \"sigmoid\"))\n"
      ],
      "execution_count": 42,
      "outputs": []
    },
    {
      "cell_type": "markdown",
      "metadata": {
        "id": "p7INHvHmcFdL"
      },
      "source": [
        "# Compilar la CNN"
      ]
    },
    {
      "cell_type": "code",
      "metadata": {
        "id": "Uc7pBop7ZLeN"
      },
      "source": [
        "classifier.compile(optimizer = 'adam', loss = \"binary_crossentropy\", metrics = [\"accuracy\"])\n",
        "batch = 32"
      ],
      "execution_count": 43,
      "outputs": []
    },
    {
      "cell_type": "markdown",
      "metadata": {
        "id": "z1JYggq51iL5"
      },
      "source": [
        "#Filtros capa 1"
      ]
    },
    {
      "cell_type": "code",
      "metadata": {
        "colab": {
          "base_uri": "https://localhost:8080/"
        },
        "id": "5GY76yZeGTAZ",
        "outputId": "4bee68b0-921a-42eb-ecc3-3284ec504e42"
      },
      "source": [
        "#Mostrar los filtros\n",
        "layer = classifier.layers #Obtenemos las capas \n",
        "filters,biases = classifier.layers[2].get_weights()\n",
        "print(layer[2].name,filters.shape)"
      ],
      "execution_count": 44,
      "outputs": [
        {
          "output_type": "stream",
          "text": [
            "conv2d_7 (3, 3, 64, 64)\n"
          ],
          "name": "stdout"
        }
      ]
    },
    {
      "cell_type": "markdown",
      "metadata": {
        "id": "9rUSdN8u1qV-"
      },
      "source": [
        "#Mostrar filtros\n"
      ]
    },
    {
      "cell_type": "code",
      "metadata": {
        "colab": {
          "base_uri": "https://localhost:8080/",
          "height": 665
        },
        "id": "gC6sTnb41uLt",
        "outputId": "c518ed06-ab84-4618-94f7-3e6271631278"
      },
      "source": [
        "#Creamos la imagen para mostrar\n",
        "fig1 = plt.figure(figsize=(8,12))\n",
        "columnas = 8\n",
        "filas = 8\n",
        "nfiltros = columnas*filas\n",
        "\n",
        "#For para graficar todos los filtros\n",
        "for i in range(1,nfiltros+1):\n",
        "    f = filters[:,:,:,i-1]\n",
        "    fig1 = plt.subplot(filas,columnas,i)\n",
        "    fig1.set_xticks([])\n",
        "    fig1.set_yticks([])\n",
        "    plt.imshow(f[:,:,0], cmap = 'gray')\n",
        "    \n",
        "plt.show()"
      ],
      "execution_count": 45,
      "outputs": [
        {
          "output_type": "display_data",
          "data": {
            "image/png": "[encoded data removed]",
            "text/plain": [
              "<Figure size 576x864 with 64 Axes>"
            ]
          },
          "metadata": {
            "tags": []
          }
        }
      ]
    },
    {
      "cell_type": "markdown",
      "metadata": {
        "id": "hits0FnccMjr"
      },
      "source": [
        "# Parte 2 - Ajustar la CNN a las imágenes para entrenar "
      ]
    },
    {
      "cell_type": "code",
      "metadata": {
        "colab": {
          "base_uri": "https://localhost:8080/"
        },
        "id": "BYgCwVDFZMrU",
        "outputId": "78a5d721-365f-4cd4-f2b1-68344d567706"
      },
      "source": [
        "from keras.preprocessing.image import ImageDataGenerator\n",
        "\n",
        "train_datagen = ImageDataGenerator(\n",
        "        rescale=1./255,\n",
        "        shear_range=0.2,\n",
        "        zoom_range=0.2,\n",
        "        horizontal_flip=True)\n",
        "\n",
        "test_datagen = ImageDataGenerator(rescale=1./255)\n",
        "\n",
        "training_dataset = train_datagen.flow_from_directory('/content/deeplearning-az/datasets/Part 2 - Convolutional Neural Networks (CNN)/dataset/training_set',\n",
        "                                                    target_size=(128, 128),\n",
        "                                                    batch_size=batch,\n",
        "                                                    class_mode='binary')\n",
        "\n",
        "testing_dataset = test_datagen.flow_from_directory('/content/deeplearning-az/datasets/Part 2 - Convolutional Neural Networks (CNN)/dataset/test_set',\n",
        "                                                target_size=(128, 128),\n",
        "                                                batch_size=32,\n",
        "                                                class_mode='binary')\n",
        "\n"
      ],
      "execution_count": 46,
      "outputs": [
        {
          "output_type": "stream",
          "text": [
            "Found 8000 images belonging to 2 classes.\n",
            "Found 2000 images belonging to 2 classes.\n"
          ],
          "name": "stdout"
        }
      ]
    },
    {
      "cell_type": "markdown",
      "metadata": {
        "id": "g-7yFwgGtUTU"
      },
      "source": [
        "#Entrenar la red"
      ]
    },
    {
      "cell_type": "code",
      "metadata": {
        "id": "LYvCeprStZpr",
        "colab": {
          "base_uri": "https://localhost:8080/"
        },
        "outputId": "d3eb6dff-580b-4252-9da1-6a6760983ae7"
      },
      "source": [
        "history = classifier.fit(training_dataset,\n",
        "                        steps_per_epoch=8000/32,\n",
        "                        epochs=25,\n",
        "                        validation_data=testing_dataset,\n",
        "                        validation_steps=2000/32)"
      ],
      "execution_count": null,
      "outputs": [
        {
          "output_type": "stream",
          "text": [
            "Epoch 1/25\n",
            "250/250 [==============================] - 79s 187ms/step - loss: 0.7232 - accuracy: 0.5321 - val_loss: 0.6765 - val_accuracy: 0.5690\n",
            "Epoch 2/25\n",
            "250/250 [==============================] - 47s 186ms/step - loss: 0.6745 - accuracy: 0.5837 - val_loss: 0.6831 - val_accuracy: 0.6050\n",
            "Epoch 3/25\n",
            "250/250 [==============================] - 46s 186ms/step - loss: 0.6378 - accuracy: 0.6460 - val_loss: 0.6345 - val_accuracy: 0.6655\n",
            "Epoch 4/25\n",
            "250/250 [==============================] - 46s 184ms/step - loss: 0.6186 - accuracy: 0.6706 - val_loss: 0.5898 - val_accuracy: 0.6910\n",
            "Epoch 5/25\n",
            "250/250 [==============================] - 46s 184ms/step - loss: 0.5849 - accuracy: 0.6906 - val_loss: 0.5788 - val_accuracy: 0.6955\n",
            "Epoch 6/25\n",
            "250/250 [==============================] - 46s 184ms/step - loss: 0.5612 - accuracy: 0.7103 - val_loss: 0.5677 - val_accuracy: 0.7150\n",
            "Epoch 7/25\n",
            "250/250 [==============================] - 46s 184ms/step - loss: 0.5509 - accuracy: 0.7241 - val_loss: 0.5435 - val_accuracy: 0.7340\n",
            "Epoch 8/25\n",
            "250/250 [==============================] - 47s 187ms/step - loss: 0.5229 - accuracy: 0.7427 - val_loss: 0.5282 - val_accuracy: 0.7380\n",
            "Epoch 9/25\n",
            "250/250 [==============================] - 46s 186ms/step - loss: 0.5085 - accuracy: 0.7538 - val_loss: 0.5023 - val_accuracy: 0.7720\n",
            "Epoch 10/25\n",
            "250/250 [==============================] - 46s 185ms/step - loss: 0.4871 - accuracy: 0.7703 - val_loss: 0.4946 - val_accuracy: 0.7600\n",
            "Epoch 11/25\n",
            " 78/250 [========>.....................] - ETA: 29s - loss: 0.4716 - accuracy: 0.7746"
          ],
          "name": "stdout"
        }
      ]
    },
    {
      "cell_type": "markdown",
      "metadata": {
        "id": "dyuyDy1ymYEw"
      },
      "source": [
        "#Guardar el modelo \n"
      ]
    },
    {
      "cell_type": "code",
      "metadata": {
        "id": "o64rckrnmTbj",
        "colab": {
          "base_uri": "https://localhost:8080/"
        },
        "outputId": "f271a9af-cc0d-4851-ab5c-5ed5f1edaae0"
      },
      "source": [
        "#Guardamos modelo\n",
        "!mkdir -p saved_model\n",
        "classifier.save(\"model.h5\")\n",
        "classifier.save('/content/RNC/saved_model/RED1') "
      ],
      "execution_count": null,
      "outputs": [
        {
          "output_type": "stream",
          "text": [
            "INFO:tensorflow:Assets written to: /content/RNC/saved_model/RED1/assets\n"
          ],
          "name": "stdout"
        }
      ]
    },
    {
      "cell_type": "code",
      "metadata": {
        "id": "MkODjyzDZF-K"
      },
      "source": [
        "RED1 = tf.keras.models.load_model('/content/deeplearning-az/datasets/Part 2 - Convolutional Neural Networks (CNN)/saved_model/RED1')\n",
        "\n",
        "# Check its architecture\n",
        "RED1.summary()"
      ],
      "execution_count": null,
      "outputs": []
    },
    {
      "cell_type": "code",
      "metadata": {
        "id": "Bn4AsYfbnZjp",
        "colab": {
          "base_uri": "https://localhost:8080/",
          "height": 1000
        },
        "outputId": "17c3756c-4ddf-4698-f5f4-c4ba3443c016"
      },
      "source": [
        "\"Mostrar los salidas red 1________________________________________________________________\"\n",
        "#Mostrar las imagenes de salida de las convoluciones\n",
        "conv_layer = [0,2] #indices de las capas convolucionales\n",
        "outputs = [classifier.layers[i].output for i in conv_layer] #Guardamos las salidas\n",
        "model_short = Model(inputs = classifier.inputs, outputs = outputs) #Creamos nuevo modelo\n",
        "print(model_short.summary()) \n",
        "\n",
        "# disable the warnings\n",
        "logging.disable(logging.WARNING)\n",
        "os.environ[\"TF_CPP_MIN_LOG_LEVEL\"] = \"3\"\n",
        "\n",
        "image_path = \"/content/RNC/test_set/cats\"\n",
        "\n",
        "images = []\n",
        "# make a prediction on the image\n",
        "images_data = []\n",
        "filenames = []\n",
        "\n",
        "# load all images into a list\n",
        "for img in os.listdir(image_path):\n",
        "        img = os.path.join(image_path, img)\n",
        "        img = image.load_img(img, target_size=(128,128))\n",
        "        img = image.img_to_array(img)\n",
        "        img = np.expand_dims(img, axis=0)\n",
        "        # normalize the image\n",
        "        processed_image = np.array(img, dtype=\"float\") / 255.0\n",
        "        images.append(processed_image)\n",
        "        #Hacer predicciones\n",
        "        pred_result = model_short.predict(images)\n",
        "        images_data.append(pred_result)\n",
        "        filenames.append(img)\n",
        "        \n",
        "images = np.vstack(images)\n",
        "feat = pred_result[1]"
      ],
      "execution_count": null,
      "outputs": [
        {
          "output_type": "stream",
          "text": [
            "Model: \"model\"\n",
            "_________________________________________________________________\n",
            "Layer (type)                 Output Shape              Param #   \n",
            "=================================================================\n",
            "conv2d_input (InputLayer)    [(None, 128, 128, 3)]     0         \n",
            "_________________________________________________________________\n",
            "conv2d (Conv2D)              (None, 126, 126, 64)      1792      \n",
            "_________________________________________________________________\n",
            "max_pooling2d (MaxPooling2D) (None, 63, 63, 64)        0         \n",
            "_________________________________________________________________\n",
            "conv2d_1 (Conv2D)            (None, 61, 61, 64)        36928     \n",
            "=================================================================\n",
            "Total params: 38,720\n",
            "Trainable params: 38,720\n",
            "Non-trainable params: 0\n",
            "_________________________________________________________________\n",
            "None\n"
          ],
          "name": "stdout"
        },
        {
          "output_type": "error",
          "ename": "ValueError",
          "evalue": "ignored",
          "traceback": [
            "\u001b[0;31m---------------------------------------------------------------------------\u001b[0m",
            "\u001b[0;31mValueError\u001b[0m                                Traceback (most recent call last)",
            "\u001b[0;32m<ipython-input-11-3e2a1e2dc537>\u001b[0m in \u001b[0;36m<module>\u001b[0;34m()\u001b[0m\n\u001b[1;32m     27\u001b[0m         \u001b[0mimages\u001b[0m\u001b[0;34m.\u001b[0m\u001b[0mappend\u001b[0m\u001b[0;34m(\u001b[0m\u001b[0mprocessed_image\u001b[0m\u001b[0;34m)\u001b[0m\u001b[0;34m\u001b[0m\u001b[0;34m\u001b[0m\u001b[0m\n\u001b[1;32m     28\u001b[0m         \u001b[0;31m#Hacer predicciones\u001b[0m\u001b[0;34m\u001b[0m\u001b[0;34m\u001b[0m\u001b[0;34m\u001b[0m\u001b[0m\n\u001b[0;32m---> 29\u001b[0;31m         \u001b[0mpred_result\u001b[0m \u001b[0;34m=\u001b[0m \u001b[0mmodel_short\u001b[0m\u001b[0;34m.\u001b[0m\u001b[0mpredict\u001b[0m\u001b[0;34m(\u001b[0m\u001b[0mimages\u001b[0m\u001b[0;34m)\u001b[0m\u001b[0;34m\u001b[0m\u001b[0;34m\u001b[0m\u001b[0m\n\u001b[0m\u001b[1;32m     30\u001b[0m         \u001b[0mimages_data\u001b[0m\u001b[0;34m.\u001b[0m\u001b[0mappend\u001b[0m\u001b[0;34m(\u001b[0m\u001b[0mpred_result\u001b[0m\u001b[0;34m)\u001b[0m\u001b[0;34m\u001b[0m\u001b[0;34m\u001b[0m\u001b[0m\n\u001b[1;32m     31\u001b[0m         \u001b[0mfilenames\u001b[0m\u001b[0;34m.\u001b[0m\u001b[0mappend\u001b[0m\u001b[0;34m(\u001b[0m\u001b[0mimg\u001b[0m\u001b[0;34m)\u001b[0m\u001b[0;34m\u001b[0m\u001b[0;34m\u001b[0m\u001b[0m\n",
            "\u001b[0;32m/usr/local/lib/python3.7/dist-packages/tensorflow/python/keras/engine/training.py\u001b[0m in \u001b[0;36mpredict\u001b[0;34m(self, x, batch_size, verbose, steps, callbacks, max_queue_size, workers, use_multiprocessing)\u001b[0m\n\u001b[1;32m   1627\u001b[0m           \u001b[0;32mfor\u001b[0m \u001b[0mstep\u001b[0m \u001b[0;32min\u001b[0m \u001b[0mdata_handler\u001b[0m\u001b[0;34m.\u001b[0m\u001b[0msteps\u001b[0m\u001b[0;34m(\u001b[0m\u001b[0;34m)\u001b[0m\u001b[0;34m:\u001b[0m\u001b[0;34m\u001b[0m\u001b[0;34m\u001b[0m\u001b[0m\n\u001b[1;32m   1628\u001b[0m             \u001b[0mcallbacks\u001b[0m\u001b[0;34m.\u001b[0m\u001b[0mon_predict_batch_begin\u001b[0m\u001b[0;34m(\u001b[0m\u001b[0mstep\u001b[0m\u001b[0;34m)\u001b[0m\u001b[0;34m\u001b[0m\u001b[0;34m\u001b[0m\u001b[0m\n\u001b[0;32m-> 1629\u001b[0;31m             \u001b[0mtmp_batch_outputs\u001b[0m \u001b[0;34m=\u001b[0m \u001b[0mself\u001b[0m\u001b[0;34m.\u001b[0m\u001b[0mpredict_function\u001b[0m\u001b[0;34m(\u001b[0m\u001b[0miterator\u001b[0m\u001b[0;34m)\u001b[0m\u001b[0;34m\u001b[0m\u001b[0;34m\u001b[0m\u001b[0m\n\u001b[0m\u001b[1;32m   1630\u001b[0m             \u001b[0;32mif\u001b[0m \u001b[0mdata_handler\u001b[0m\u001b[0;34m.\u001b[0m\u001b[0mshould_sync\u001b[0m\u001b[0;34m:\u001b[0m\u001b[0;34m\u001b[0m\u001b[0;34m\u001b[0m\u001b[0m\n\u001b[1;32m   1631\u001b[0m               \u001b[0mcontext\u001b[0m\u001b[0;34m.\u001b[0m\u001b[0masync_wait\u001b[0m\u001b[0;34m(\u001b[0m\u001b[0;34m)\u001b[0m\u001b[0;34m\u001b[0m\u001b[0;34m\u001b[0m\u001b[0m\n",
            "\u001b[0;32m/usr/local/lib/python3.7/dist-packages/tensorflow/python/eager/def_function.py\u001b[0m in \u001b[0;36m__call__\u001b[0;34m(self, *args, **kwds)\u001b[0m\n\u001b[1;32m    826\u001b[0m     \u001b[0mtracing_count\u001b[0m \u001b[0;34m=\u001b[0m \u001b[0mself\u001b[0m\u001b[0;34m.\u001b[0m\u001b[0mexperimental_get_tracing_count\u001b[0m\u001b[0;34m(\u001b[0m\u001b[0;34m)\u001b[0m\u001b[0;34m\u001b[0m\u001b[0;34m\u001b[0m\u001b[0m\n\u001b[1;32m    827\u001b[0m     \u001b[0;32mwith\u001b[0m \u001b[0mtrace\u001b[0m\u001b[0;34m.\u001b[0m\u001b[0mTrace\u001b[0m\u001b[0;34m(\u001b[0m\u001b[0mself\u001b[0m\u001b[0;34m.\u001b[0m\u001b[0m_name\u001b[0m\u001b[0;34m)\u001b[0m \u001b[0;32mas\u001b[0m \u001b[0mtm\u001b[0m\u001b[0;34m:\u001b[0m\u001b[0;34m\u001b[0m\u001b[0;34m\u001b[0m\u001b[0m\n\u001b[0;32m--> 828\u001b[0;31m       \u001b[0mresult\u001b[0m \u001b[0;34m=\u001b[0m \u001b[0mself\u001b[0m\u001b[0;34m.\u001b[0m\u001b[0m_call\u001b[0m\u001b[0;34m(\u001b[0m\u001b[0;34m*\u001b[0m\u001b[0margs\u001b[0m\u001b[0;34m,\u001b[0m \u001b[0;34m**\u001b[0m\u001b[0mkwds\u001b[0m\u001b[0;34m)\u001b[0m\u001b[0;34m\u001b[0m\u001b[0;34m\u001b[0m\u001b[0m\n\u001b[0m\u001b[1;32m    829\u001b[0m       \u001b[0mcompiler\u001b[0m \u001b[0;34m=\u001b[0m \u001b[0;34m\"xla\"\u001b[0m \u001b[0;32mif\u001b[0m \u001b[0mself\u001b[0m\u001b[0;34m.\u001b[0m\u001b[0m_experimental_compile\u001b[0m \u001b[0;32melse\u001b[0m \u001b[0;34m\"nonXla\"\u001b[0m\u001b[0;34m\u001b[0m\u001b[0;34m\u001b[0m\u001b[0m\n\u001b[1;32m    830\u001b[0m       \u001b[0mnew_tracing_count\u001b[0m \u001b[0;34m=\u001b[0m \u001b[0mself\u001b[0m\u001b[0;34m.\u001b[0m\u001b[0mexperimental_get_tracing_count\u001b[0m\u001b[0;34m(\u001b[0m\u001b[0;34m)\u001b[0m\u001b[0;34m\u001b[0m\u001b[0;34m\u001b[0m\u001b[0m\n",
            "\u001b[0;32m/usr/local/lib/python3.7/dist-packages/tensorflow/python/eager/def_function.py\u001b[0m in \u001b[0;36m_call\u001b[0;34m(self, *args, **kwds)\u001b[0m\n\u001b[1;32m    860\u001b[0m       \u001b[0;31m# In this case we have not created variables on the first call. So we can\u001b[0m\u001b[0;34m\u001b[0m\u001b[0;34m\u001b[0m\u001b[0;34m\u001b[0m\u001b[0m\n\u001b[1;32m    861\u001b[0m       \u001b[0;31m# run the first trace but we should fail if variables are created.\u001b[0m\u001b[0;34m\u001b[0m\u001b[0;34m\u001b[0m\u001b[0;34m\u001b[0m\u001b[0m\n\u001b[0;32m--> 862\u001b[0;31m       \u001b[0mresults\u001b[0m \u001b[0;34m=\u001b[0m \u001b[0mself\u001b[0m\u001b[0;34m.\u001b[0m\u001b[0m_stateful_fn\u001b[0m\u001b[0;34m(\u001b[0m\u001b[0;34m*\u001b[0m\u001b[0margs\u001b[0m\u001b[0;34m,\u001b[0m \u001b[0;34m**\u001b[0m\u001b[0mkwds\u001b[0m\u001b[0;34m)\u001b[0m\u001b[0;34m\u001b[0m\u001b[0;34m\u001b[0m\u001b[0m\n\u001b[0m\u001b[1;32m    863\u001b[0m       \u001b[0;32mif\u001b[0m \u001b[0mself\u001b[0m\u001b[0;34m.\u001b[0m\u001b[0m_created_variables\u001b[0m\u001b[0;34m:\u001b[0m\u001b[0;34m\u001b[0m\u001b[0;34m\u001b[0m\u001b[0m\n\u001b[1;32m    864\u001b[0m         raise ValueError(\"Creating variables on a non-first call to a function\"\n",
            "\u001b[0;32m/usr/local/lib/python3.7/dist-packages/tensorflow/python/eager/function.py\u001b[0m in \u001b[0;36m__call__\u001b[0;34m(self, *args, **kwargs)\u001b[0m\n\u001b[1;32m   2939\u001b[0m     \u001b[0;32mwith\u001b[0m \u001b[0mself\u001b[0m\u001b[0;34m.\u001b[0m\u001b[0m_lock\u001b[0m\u001b[0;34m:\u001b[0m\u001b[0;34m\u001b[0m\u001b[0;34m\u001b[0m\u001b[0m\n\u001b[1;32m   2940\u001b[0m       (graph_function,\n\u001b[0;32m-> 2941\u001b[0;31m        filtered_flat_args) = self._maybe_define_function(args, kwargs)\n\u001b[0m\u001b[1;32m   2942\u001b[0m     return graph_function._call_flat(\n\u001b[1;32m   2943\u001b[0m         filtered_flat_args, captured_inputs=graph_function.captured_inputs)  # pylint: disable=protected-access\n",
            "\u001b[0;32m/usr/local/lib/python3.7/dist-packages/tensorflow/python/eager/function.py\u001b[0m in \u001b[0;36m_maybe_define_function\u001b[0;34m(self, args, kwargs)\u001b[0m\n\u001b[1;32m   3356\u001b[0m               call_context_key in self._function_cache.missed):\n\u001b[1;32m   3357\u001b[0m             return self._define_function_with_shape_relaxation(\n\u001b[0;32m-> 3358\u001b[0;31m                 args, kwargs, flat_args, filtered_flat_args, cache_key_context)\n\u001b[0m\u001b[1;32m   3359\u001b[0m \u001b[0;34m\u001b[0m\u001b[0m\n\u001b[1;32m   3360\u001b[0m           \u001b[0mself\u001b[0m\u001b[0;34m.\u001b[0m\u001b[0m_function_cache\u001b[0m\u001b[0;34m.\u001b[0m\u001b[0mmissed\u001b[0m\u001b[0;34m.\u001b[0m\u001b[0madd\u001b[0m\u001b[0;34m(\u001b[0m\u001b[0mcall_context_key\u001b[0m\u001b[0;34m)\u001b[0m\u001b[0;34m\u001b[0m\u001b[0;34m\u001b[0m\u001b[0m\n",
            "\u001b[0;32m/usr/local/lib/python3.7/dist-packages/tensorflow/python/eager/function.py\u001b[0m in \u001b[0;36m_define_function_with_shape_relaxation\u001b[0;34m(self, args, kwargs, flat_args, filtered_flat_args, cache_key_context)\u001b[0m\n\u001b[1;32m   3278\u001b[0m \u001b[0;34m\u001b[0m\u001b[0m\n\u001b[1;32m   3279\u001b[0m     graph_function = self._create_graph_function(\n\u001b[0;32m-> 3280\u001b[0;31m         args, kwargs, override_flat_arg_shapes=relaxed_arg_shapes)\n\u001b[0m\u001b[1;32m   3281\u001b[0m     \u001b[0mself\u001b[0m\u001b[0;34m.\u001b[0m\u001b[0m_function_cache\u001b[0m\u001b[0;34m.\u001b[0m\u001b[0marg_relaxed\u001b[0m\u001b[0;34m[\u001b[0m\u001b[0mrank_only_cache_key\u001b[0m\u001b[0;34m]\u001b[0m \u001b[0;34m=\u001b[0m \u001b[0mgraph_function\u001b[0m\u001b[0;34m\u001b[0m\u001b[0;34m\u001b[0m\u001b[0m\n\u001b[1;32m   3282\u001b[0m \u001b[0;34m\u001b[0m\u001b[0m\n",
            "\u001b[0;32m/usr/local/lib/python3.7/dist-packages/tensorflow/python/eager/function.py\u001b[0m in \u001b[0;36m_create_graph_function\u001b[0;34m(self, args, kwargs, override_flat_arg_shapes)\u001b[0m\n\u001b[1;32m   3204\u001b[0m             \u001b[0marg_names\u001b[0m\u001b[0;34m=\u001b[0m\u001b[0marg_names\u001b[0m\u001b[0;34m,\u001b[0m\u001b[0;34m\u001b[0m\u001b[0;34m\u001b[0m\u001b[0m\n\u001b[1;32m   3205\u001b[0m             \u001b[0moverride_flat_arg_shapes\u001b[0m\u001b[0;34m=\u001b[0m\u001b[0moverride_flat_arg_shapes\u001b[0m\u001b[0;34m,\u001b[0m\u001b[0;34m\u001b[0m\u001b[0;34m\u001b[0m\u001b[0m\n\u001b[0;32m-> 3206\u001b[0;31m             capture_by_value=self._capture_by_value),\n\u001b[0m\u001b[1;32m   3207\u001b[0m         \u001b[0mself\u001b[0m\u001b[0;34m.\u001b[0m\u001b[0m_function_attributes\u001b[0m\u001b[0;34m,\u001b[0m\u001b[0;34m\u001b[0m\u001b[0;34m\u001b[0m\u001b[0m\n\u001b[1;32m   3208\u001b[0m         \u001b[0mfunction_spec\u001b[0m\u001b[0;34m=\u001b[0m\u001b[0mself\u001b[0m\u001b[0;34m.\u001b[0m\u001b[0mfunction_spec\u001b[0m\u001b[0;34m,\u001b[0m\u001b[0;34m\u001b[0m\u001b[0;34m\u001b[0m\u001b[0m\n",
            "\u001b[0;32m/usr/local/lib/python3.7/dist-packages/tensorflow/python/framework/func_graph.py\u001b[0m in \u001b[0;36mfunc_graph_from_py_func\u001b[0;34m(name, python_func, args, kwargs, signature, func_graph, autograph, autograph_options, add_control_dependencies, arg_names, op_return_value, collections, capture_by_value, override_flat_arg_shapes)\u001b[0m\n\u001b[1;32m    988\u001b[0m         \u001b[0m_\u001b[0m\u001b[0;34m,\u001b[0m \u001b[0moriginal_func\u001b[0m \u001b[0;34m=\u001b[0m \u001b[0mtf_decorator\u001b[0m\u001b[0;34m.\u001b[0m\u001b[0munwrap\u001b[0m\u001b[0;34m(\u001b[0m\u001b[0mpython_func\u001b[0m\u001b[0;34m)\u001b[0m\u001b[0;34m\u001b[0m\u001b[0;34m\u001b[0m\u001b[0m\n\u001b[1;32m    989\u001b[0m \u001b[0;34m\u001b[0m\u001b[0m\n\u001b[0;32m--> 990\u001b[0;31m       \u001b[0mfunc_outputs\u001b[0m \u001b[0;34m=\u001b[0m \u001b[0mpython_func\u001b[0m\u001b[0;34m(\u001b[0m\u001b[0;34m*\u001b[0m\u001b[0mfunc_args\u001b[0m\u001b[0;34m,\u001b[0m \u001b[0;34m**\u001b[0m\u001b[0mfunc_kwargs\u001b[0m\u001b[0;34m)\u001b[0m\u001b[0;34m\u001b[0m\u001b[0;34m\u001b[0m\u001b[0m\n\u001b[0m\u001b[1;32m    991\u001b[0m \u001b[0;34m\u001b[0m\u001b[0m\n\u001b[1;32m    992\u001b[0m       \u001b[0;31m# invariant: `func_outputs` contains only Tensors, CompositeTensors,\u001b[0m\u001b[0;34m\u001b[0m\u001b[0;34m\u001b[0m\u001b[0;34m\u001b[0m\u001b[0m\n",
            "\u001b[0;32m/usr/local/lib/python3.7/dist-packages/tensorflow/python/eager/def_function.py\u001b[0m in \u001b[0;36mwrapped_fn\u001b[0;34m(*args, **kwds)\u001b[0m\n\u001b[1;32m    632\u001b[0m             \u001b[0mxla_context\u001b[0m\u001b[0;34m.\u001b[0m\u001b[0mExit\u001b[0m\u001b[0;34m(\u001b[0m\u001b[0;34m)\u001b[0m\u001b[0;34m\u001b[0m\u001b[0;34m\u001b[0m\u001b[0m\n\u001b[1;32m    633\u001b[0m         \u001b[0;32melse\u001b[0m\u001b[0;34m:\u001b[0m\u001b[0;34m\u001b[0m\u001b[0;34m\u001b[0m\u001b[0m\n\u001b[0;32m--> 634\u001b[0;31m           \u001b[0mout\u001b[0m \u001b[0;34m=\u001b[0m \u001b[0mweak_wrapped_fn\u001b[0m\u001b[0;34m(\u001b[0m\u001b[0;34m)\u001b[0m\u001b[0;34m.\u001b[0m\u001b[0m__wrapped__\u001b[0m\u001b[0;34m(\u001b[0m\u001b[0;34m*\u001b[0m\u001b[0margs\u001b[0m\u001b[0;34m,\u001b[0m \u001b[0;34m**\u001b[0m\u001b[0mkwds\u001b[0m\u001b[0;34m)\u001b[0m\u001b[0;34m\u001b[0m\u001b[0;34m\u001b[0m\u001b[0m\n\u001b[0m\u001b[1;32m    635\u001b[0m         \u001b[0;32mreturn\u001b[0m \u001b[0mout\u001b[0m\u001b[0;34m\u001b[0m\u001b[0;34m\u001b[0m\u001b[0m\n\u001b[1;32m    636\u001b[0m \u001b[0;34m\u001b[0m\u001b[0m\n",
            "\u001b[0;32m/usr/local/lib/python3.7/dist-packages/tensorflow/python/framework/func_graph.py\u001b[0m in \u001b[0;36mwrapper\u001b[0;34m(*args, **kwargs)\u001b[0m\n\u001b[1;32m    975\u001b[0m           \u001b[0;32mexcept\u001b[0m \u001b[0mException\u001b[0m \u001b[0;32mas\u001b[0m \u001b[0me\u001b[0m\u001b[0;34m:\u001b[0m  \u001b[0;31m# pylint:disable=broad-except\u001b[0m\u001b[0;34m\u001b[0m\u001b[0;34m\u001b[0m\u001b[0m\n\u001b[1;32m    976\u001b[0m             \u001b[0;32mif\u001b[0m \u001b[0mhasattr\u001b[0m\u001b[0;34m(\u001b[0m\u001b[0me\u001b[0m\u001b[0;34m,\u001b[0m \u001b[0;34m\"ag_error_metadata\"\u001b[0m\u001b[0;34m)\u001b[0m\u001b[0;34m:\u001b[0m\u001b[0;34m\u001b[0m\u001b[0;34m\u001b[0m\u001b[0m\n\u001b[0;32m--> 977\u001b[0;31m               \u001b[0;32mraise\u001b[0m \u001b[0me\u001b[0m\u001b[0;34m.\u001b[0m\u001b[0mag_error_metadata\u001b[0m\u001b[0;34m.\u001b[0m\u001b[0mto_exception\u001b[0m\u001b[0;34m(\u001b[0m\u001b[0me\u001b[0m\u001b[0;34m)\u001b[0m\u001b[0;34m\u001b[0m\u001b[0;34m\u001b[0m\u001b[0m\n\u001b[0m\u001b[1;32m    978\u001b[0m             \u001b[0;32melse\u001b[0m\u001b[0;34m:\u001b[0m\u001b[0;34m\u001b[0m\u001b[0;34m\u001b[0m\u001b[0m\n\u001b[1;32m    979\u001b[0m               \u001b[0;32mraise\u001b[0m\u001b[0;34m\u001b[0m\u001b[0;34m\u001b[0m\u001b[0m\n",
            "\u001b[0;31mValueError\u001b[0m: in user code:\n\n    /usr/local/lib/python3.7/dist-packages/tensorflow/python/keras/engine/training.py:1478 predict_function  *\n        return step_function(self, iterator)\n    /usr/local/lib/python3.7/dist-packages/tensorflow/python/keras/engine/training.py:1468 step_function  **\n        outputs = model.distribute_strategy.run(run_step, args=(data,))\n    /usr/local/lib/python3.7/dist-packages/tensorflow/python/distribute/distribute_lib.py:1259 run\n        return self._extended.call_for_each_replica(fn, args=args, kwargs=kwargs)\n    /usr/local/lib/python3.7/dist-packages/tensorflow/python/distribute/distribute_lib.py:2730 call_for_each_replica\n        return self._call_for_each_replica(fn, args, kwargs)\n    /usr/local/lib/python3.7/dist-packages/tensorflow/python/distribute/distribute_lib.py:3417 _call_for_each_replica\n        return fn(*args, **kwargs)\n    /usr/local/lib/python3.7/dist-packages/tensorflow/python/keras/engine/training.py:1461 run_step  **\n        outputs = model.predict_step(data)\n    /usr/local/lib/python3.7/dist-packages/tensorflow/python/keras/engine/training.py:1434 predict_step\n        return self(x, training=False)\n    /usr/local/lib/python3.7/dist-packages/tensorflow/python/keras/engine/base_layer.py:998 __call__\n        input_spec.assert_input_compatibility(self.input_spec, inputs, self.name)\n    /usr/local/lib/python3.7/dist-packages/tensorflow/python/keras/engine/input_spec.py:207 assert_input_compatibility\n        ' input tensors. Inputs received: ' + str(inputs))\n\n    ValueError: Layer model expects 1 input(s), but it received 2 input tensors. Inputs received: [<tf.Tensor 'IteratorGetNext:0' shape=(None, 128, 128, 3) dtype=float32>, <tf.Tensor 'IteratorGetNext:1' shape=(None, 128, 128, 3) dtype=float32>]\n"
          ]
        }
      ]
    },
    {
      "cell_type": "markdown",
      "metadata": {
        "id": "_vO5XCNxJVpm"
      },
      "source": [
        "\n",
        "#Construir el modelo de CNN\n"
      ]
    },
    {
      "cell_type": "markdown",
      "metadata": {
        "id": "YGPiSvJ1JVpq"
      },
      "source": [
        "#RED 2\n",
        "Inicializar la CNN"
      ]
    },
    {
      "cell_type": "code",
      "metadata": {
        "id": "303E6WJiJVps"
      },
      "source": [
        "red2 = Sequential()"
      ],
      "execution_count": null,
      "outputs": []
    },
    {
      "cell_type": "markdown",
      "metadata": {
        "id": "LdosAOrXJVpt"
      },
      "source": [
        "# Paso 1 - Convolución y Maxpooling"
      ]
    },
    {
      "cell_type": "code",
      "metadata": {
        "id": "Cra3btt-JVpu"
      },
      "source": [
        "#Capa 1\n",
        "red2.add(Conv2D(filters = 32,kernel_size = (3, 3),input_shape = (128,128, 3), activation = \"relu\"))\n",
        "red2.add(MaxPooling2D(pool_size = (2,2)))\n",
        "#Capa 2\n",
        "red2.add(Conv2D(filters = 64,kernel_size = (3, 3), activation = \"relu\"))\n",
        "red2.add(MaxPooling2D(pool_size = (2,2)))\n",
        "#Capa 3\n",
        "red2.add(Conv2D(filters = 128,kernel_size = (3, 3),activation = \"relu\"))\n",
        "red2.add(MaxPooling2D(pool_size = (2,2)))"
      ],
      "execution_count": null,
      "outputs": []
    },
    {
      "cell_type": "markdown",
      "metadata": {
        "id": "JfoFwwzzJVpv"
      },
      "source": [
        "# Paso 3 - Flattening"
      ]
    },
    {
      "cell_type": "code",
      "metadata": {
        "id": "L0vV_vdNJVpw"
      },
      "source": [
        "red2.add(Flatten())"
      ],
      "execution_count": null,
      "outputs": []
    },
    {
      "cell_type": "markdown",
      "metadata": {
        "id": "k-aDG3lcJVpx"
      },
      "source": [
        "# Paso 4 - Full Connection"
      ]
    },
    {
      "cell_type": "code",
      "metadata": {
        "id": "T_s9L7dlJVpy"
      },
      "source": [
        "#Capa 1\n",
        "red2.add(Dense(units = 128, activation = \"relu\"))\n",
        "red2.add(Dropout(0.5))\n",
        "\n",
        "#Capa 2\n",
        "red2.add(Dense(units = 128, activation = \"relu\"))\n",
        "red2.add(Dropout(0.5))\n",
        "\n",
        "#Salida\n",
        "red2.add(Dense(units = 1, activation = \"sigmoid\"))\n"
      ],
      "execution_count": null,
      "outputs": []
    },
    {
      "cell_type": "markdown",
      "metadata": {
        "id": "jaAX_H8FJVpz"
      },
      "source": [
        "# Compilar la CNN"
      ]
    },
    {
      "cell_type": "code",
      "metadata": {
        "id": "4nBEVKo-JVp0"
      },
      "source": [
        "red2.compile(optimizer = 'adam', loss = \"binary_crossentropy\", metrics = [\"accuracy\"])\n",
        "batch = 32"
      ],
      "execution_count": null,
      "outputs": []
    },
    {
      "cell_type": "markdown",
      "metadata": {
        "id": "_44NWR1YJVp1"
      },
      "source": [
        "#Filtros capa 1"
      ]
    },
    {
      "cell_type": "code",
      "metadata": {
        "id": "8vNFXFsZJVp2"
      },
      "source": [
        "#Mostrar los filtros\n",
        "layer2 = classifier.layers #Obtenemos las capas \n",
        "filters2,biases = classifier.layers[2].get_weights()\n",
        "print(layer[2].name,filters2.shape)"
      ],
      "execution_count": null,
      "outputs": []
    },
    {
      "cell_type": "markdown",
      "metadata": {
        "id": "L8S2xsxoJVp5"
      },
      "source": [
        "#Mostrar filtros\n"
      ]
    },
    {
      "cell_type": "code",
      "metadata": {
        "id": "-DCSQ8PRJVp6"
      },
      "source": [
        "#Creamos la imagen para mostrar\n",
        "fig1 = plt.figure(figsize=(8,12))\n",
        "columnas = 8\n",
        "filas = 8\n",
        "nfiltros = columnas*filas\n",
        "\n",
        "#For para graficar todos los filtros\n",
        "for i in range(1,nfiltros+1):\n",
        "    f = filters2[:,:,:,i-1]\n",
        "    fig1 = plt.subplot(filas,columnas,i)\n",
        "    fig1.set_xticks([])\n",
        "    fig1.set_yticks([])\n",
        "    plt.imshow(f[:,:,0], cmap = 'gray')\n",
        "    \n",
        "plt.show()"
      ],
      "execution_count": null,
      "outputs": []
    },
    {
      "cell_type": "markdown",
      "metadata": {
        "id": "O5URpb5JJVp8"
      },
      "source": [
        "# Parte 2 - Ajustar la CNN a las imágenes para entrenar "
      ]
    },
    {
      "cell_type": "code",
      "metadata": {
        "id": "iOm2nrmDJVp8"
      },
      "source": [
        "from keras.preprocessing.image import ImageDataGenerator\n",
        "\n",
        "train_datagen = ImageDataGenerator(\n",
        "        rescale=1./255,\n",
        "        shear_range=0.2,\n",
        "        zoom_range=0.2,\n",
        "        horizontal_flip=True)\n",
        "\n",
        "test_datagen = ImageDataGenerator(rescale=1./255)\n",
        "\n",
        "training_dataset = train_datagen.flow_from_directory('/content/deeplearning-az/datasets/Part 2 - Convolutional Neural Networks (CNN)/dataset/training_set',\n",
        "                                                    target_size=(128, 128),\n",
        "                                                    batch_size=batch,\n",
        "                                                    class_mode='binary')\n",
        "\n",
        "testing_dataset = test_datagen.flow_from_directory('/content/deeplearning-az/datasets/Part 2 - Convolutional Neural Networks (CNN)/dataset/test_set',\n",
        "                                                target_size=(128, 128),\n",
        "                                                batch_size=32,\n",
        "                                                class_mode='binary')\n",
        "\n"
      ],
      "execution_count": null,
      "outputs": []
    },
    {
      "cell_type": "markdown",
      "metadata": {
        "id": "MLmozEyPJVp-"
      },
      "source": [
        "#Entrenar la red"
      ]
    },
    {
      "cell_type": "code",
      "metadata": {
        "id": "YnV1aAfbJVp-"
      },
      "source": [
        "history = red2.fit(training_dataset,\n",
        "                        steps_per_epoch=8000/32,\n",
        "                        epochs=25,\n",
        "                        validation_data=testing_dataset,\n",
        "                        validation_steps=2000/32)"
      ],
      "execution_count": null,
      "outputs": []
    },
    {
      "cell_type": "markdown",
      "metadata": {
        "id": "PfJpMlI-JVp_"
      },
      "source": [
        "#Guardar el modelo \n"
      ]
    },
    {
      "cell_type": "code",
      "metadata": {
        "id": "ykJ6trSLJVqA"
      },
      "source": [
        "#Cargar los pesos de las neuronas\n",
        "classifier.load_weights('best_weights.hdf5')\n",
        "#Guardar modelo\n",
        "classifier.save('RED2.h5')\n",
        "print(\"Saved model to disk\")"
      ],
      "execution_count": null,
      "outputs": []
    },
    {
      "cell_type": "code",
      "metadata": {
        "id": "SUgOI_uZJVqB"
      },
      "source": [
        "\"Mostrar los salidas red 2________________________________________________________________\"\n",
        "#Mostrar las imagenes de salida de las convoluciones\n",
        "conv_layer2 = [0,2] #indices de las capas convolucionales\n",
        "outputs2 = [red2.layers[i].output for i in conv_layer2] #Guardamos las salidas\n",
        "print(outputs2)\n",
        "model_short2 = Model(inputs = red2.inputs, outputs = outputs2) #Creamos nuevo modelo\n",
        "print(model_short2.summary()) \n",
        "\n",
        "# disable the warnings\n",
        "logging.disable(logging.WARNING)\n",
        "os.environ[\"TF_CPP_MIN_LOG_LEVEL\"] = \"3\"\n",
        "\n",
        "image_path2 = \"/test_set/cats\"\n",
        "\n",
        "images2 = []\n",
        "    \n",
        "# load all images into a list\n",
        "for img2 in os.listdir(image_path2):\n",
        "        img2 = os.path.join(image_path2, img2)\n",
        "        img2 = image.load_img(img2, target_size=(128,128))\n",
        "        img2 = image.img_to_array(img2)\n",
        "        img2 = np.expand_dims(img2, axis=0)\n",
        "        # normalize the image\n",
        "        processed_image = np.array(img2, dtype=\"float\") / 255.0\n",
        "        images2.append(processed_image)\n",
        "        \n",
        "images2 = np.vstack(images2)\n",
        "\n",
        "# make a prediction on the image\n",
        "images_data2 = []\n",
        "filenames2 = []\n",
        "\n",
        "\n",
        "for filename2 in os.listdir(image_path2):    \n",
        "    pred_result2 = model_short2.predict(images2)\n",
        "    images_data2.append(pred_result2)\n",
        "    filenames2.append(filename2)\n",
        "\n",
        "\n",
        "feat2 = pred_result2[1]"
      ],
      "execution_count": null,
      "outputs": []
    },
    {
      "cell_type": "markdown",
      "metadata": {
        "id": "BqYQf00nryGS"
      },
      "source": [
        "# Sobreentrenada\n",
        "Predicción del 83.9 en testing y 88.4 en training,\n",
        "función de perdidas 0.4336 en testing y 0.2768 en training\n"
      ]
    },
    {
      "cell_type": "code",
      "metadata": {
        "id": "AVCxvY_RqbGM"
      },
      "source": [
        "print(history.history.keys())"
      ],
      "execution_count": null,
      "outputs": []
    },
    {
      "cell_type": "markdown",
      "metadata": {
        "id": "o-7L3xRarTzY"
      },
      "source": [
        "#Perdidas\n"
      ]
    },
    {
      "cell_type": "code",
      "metadata": {
        "id": "F7oqcJ5Kqg2L"
      },
      "source": [
        "plt.plot(history.history['loss'])\n",
        "plt.plot(history.history['val_loss'])\n",
        "plt.title('model loss')\n",
        "plt.ylabel('loss')\n",
        "plt.xlabel('epoch')\n",
        "plt.legend(['train', 'test'], loc='upper left')\n",
        "plt.show()"
      ],
      "execution_count": null,
      "outputs": []
    },
    {
      "cell_type": "markdown",
      "metadata": {
        "id": "DJZKdbT1rYSO"
      },
      "source": [
        "#Presición\n"
      ]
    },
    {
      "cell_type": "code",
      "metadata": {
        "id": "w43ESzWam0ma"
      },
      "source": [
        "plt.plot(history.history['accuracy'])\n",
        "plt.plot(history.history['val_accuracy'])\n",
        "plt.title('model accuracy')\n",
        "plt.ylabel('accuracy')\n",
        "plt.xlabel('epoch')\n",
        "plt.legend(['train', 'test'], loc='upper left')\n",
        "plt.show()"
      ],
      "execution_count": null,
      "outputs": []
    }
  ]
}